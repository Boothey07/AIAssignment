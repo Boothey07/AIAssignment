{
 "cells": [
  {
   "cell_type": "code",
   "execution_count": 313,
   "outputs": [],
   "source": [
    "import os\n",
    "import pickle\n",
    "\n",
    "import pandas as pd\n",
    "import numpy as np\n",
    "import matplotlib.pyplot as plt\n",
    "\n",
    "\n",
    "\n",
    "\n",
    "from bs4 import BeautifulSoup\n",
    "import re\n",
    "import nltk\n",
    "from nltk.corpus import stopwords\n",
    "from nltk.stem import WordNetLemmatizer\n",
    "from sklearn.feature_extraction.text import CountVectorizer\n",
    "from sklearn.feature_extraction.text import TfidfVectorizer\n",
    "from sklearn.model_selection import train_test_split\n",
    "from sklearn.svm import LinearSVC\n",
    "%matplotlib inline\n",
    "\n",
    "from sklearn import *\n",
    "\n",
    "import pickle\n",
    "import seaborn as sns\n",
    "\n",
    "\n",
    "from sklearn.metrics import classification_report, confusion_matrix, accuracy_score\n",
    "\n",
    "from sklearn.feature_selection import SelectKBest, chi2\n"
   ],
   "metadata": {
    "collapsed": false
   }
  },
  {
   "cell_type": "code",
   "execution_count": 314,
   "outputs": [
    {
     "data": {
      "text/plain": "                                              review sentiment\n0  One of the other reviewers has mentioned that ...  positive\n1  A wonderful little production. <br /><br />The...  positive\n2  I thought this was a wonderful way to spend ti...  positive\n3  Basically there's a family where a little boy ...  negative\n4  Petter Mattei's \"Love in the Time of Money\" is...  positive",
      "text/html": "<div>\n<style scoped>\n    .dataframe tbody tr th:only-of-type {\n        vertical-align: middle;\n    }\n\n    .dataframe tbody tr th {\n        vertical-align: top;\n    }\n\n    .dataframe thead th {\n        text-align: right;\n    }\n</style>\n<table border=\"1\" class=\"dataframe\">\n  <thead>\n    <tr style=\"text-align: right;\">\n      <th></th>\n      <th>review</th>\n      <th>sentiment</th>\n    </tr>\n  </thead>\n  <tbody>\n    <tr>\n      <th>0</th>\n      <td>One of the other reviewers has mentioned that ...</td>\n      <td>positive</td>\n    </tr>\n    <tr>\n      <th>1</th>\n      <td>A wonderful little production. &lt;br /&gt;&lt;br /&gt;The...</td>\n      <td>positive</td>\n    </tr>\n    <tr>\n      <th>2</th>\n      <td>I thought this was a wonderful way to spend ti...</td>\n      <td>positive</td>\n    </tr>\n    <tr>\n      <th>3</th>\n      <td>Basically there's a family where a little boy ...</td>\n      <td>negative</td>\n    </tr>\n    <tr>\n      <th>4</th>\n      <td>Petter Mattei's \"Love in the Time of Money\" is...</td>\n      <td>positive</td>\n    </tr>\n  </tbody>\n</table>\n</div>"
     },
     "execution_count": 314,
     "metadata": {},
     "output_type": "execute_result"
    }
   ],
   "source": [
    "dataset = pd.read_csv(\"IMDB Dataset.csv\")\n",
    "dataset.head()"
   ],
   "metadata": {
    "collapsed": false
   }
  },
  {
   "cell_type": "code",
   "execution_count": 315,
   "outputs": [
    {
     "data": {
      "text/plain": "                                                   review sentiment\ncount                                               50000     50000\nunique                                              49582         2\ntop     Loved today's show!!! It was a variety and not...  positive\nfreq                                                    5     25000",
      "text/html": "<div>\n<style scoped>\n    .dataframe tbody tr th:only-of-type {\n        vertical-align: middle;\n    }\n\n    .dataframe tbody tr th {\n        vertical-align: top;\n    }\n\n    .dataframe thead th {\n        text-align: right;\n    }\n</style>\n<table border=\"1\" class=\"dataframe\">\n  <thead>\n    <tr style=\"text-align: right;\">\n      <th></th>\n      <th>review</th>\n      <th>sentiment</th>\n    </tr>\n  </thead>\n  <tbody>\n    <tr>\n      <th>count</th>\n      <td>50000</td>\n      <td>50000</td>\n    </tr>\n    <tr>\n      <th>unique</th>\n      <td>49582</td>\n      <td>2</td>\n    </tr>\n    <tr>\n      <th>top</th>\n      <td>Loved today's show!!! It was a variety and not...</td>\n      <td>positive</td>\n    </tr>\n    <tr>\n      <th>freq</th>\n      <td>5</td>\n      <td>25000</td>\n    </tr>\n  </tbody>\n</table>\n</div>"
     },
     "execution_count": 315,
     "metadata": {},
     "output_type": "execute_result"
    }
   ],
   "source": [
    "dataset.describe()"
   ],
   "metadata": {
    "collapsed": false
   }
  },
  {
   "cell_type": "markdown",
   "source": [],
   "metadata": {
    "collapsed": false
   }
  },
  {
   "cell_type": "code",
   "execution_count": 316,
   "outputs": [
    {
     "name": "stdout",
     "output_type": "stream",
     "text": [
      "<class 'pandas.core.frame.DataFrame'>\n",
      "RangeIndex: 50000 entries, 0 to 49999\n",
      "Data columns (total 2 columns):\n",
      " #   Column     Non-Null Count  Dtype \n",
      "---  ------     --------------  ----- \n",
      " 0   review     50000 non-null  object\n",
      " 1   sentiment  50000 non-null  object\n",
      "dtypes: object(2)\n",
      "memory usage: 781.4+ KB\n"
     ]
    }
   ],
   "source": [
    "dataset.info()"
   ],
   "metadata": {
    "collapsed": false
   }
  },
  {
   "cell_type": "code",
   "execution_count": 317,
   "outputs": [
    {
     "data": {
      "text/plain": "array(['positive', 'negative'], dtype=object)"
     },
     "execution_count": 317,
     "metadata": {},
     "output_type": "execute_result"
    }
   ],
   "source": [
    "dataset['sentiment'].unique()"
   ],
   "metadata": {
    "collapsed": false
   }
  },
  {
   "cell_type": "code",
   "execution_count": 318,
   "outputs": [
    {
     "data": {
      "text/plain": "positive    25000\nnegative    25000\nName: sentiment, dtype: int64"
     },
     "execution_count": 318,
     "metadata": {},
     "output_type": "execute_result"
    }
   ],
   "source": [
    "dataset['sentiment'].value_counts()"
   ],
   "metadata": {
    "collapsed": false
   }
  },
  {
   "cell_type": "code",
   "execution_count": 319,
   "outputs": [
    {
     "name": "stderr",
     "output_type": "stream",
     "text": [
      "/Users/tom/.conda/envs/workspace/lib/python3.10/site-packages/seaborn/_decorators.py:36: FutureWarning: Pass the following variable as a keyword arg: x. From version 0.12, the only valid positional argument will be `data`, and passing other arguments without an explicit keyword will result in an error or misinterpretation.\n",
      "  warnings.warn(\n"
     ]
    },
    {
     "data": {
      "text/plain": "<AxesSubplot:xlabel='sentiment', ylabel='count'>"
     },
     "execution_count": 319,
     "metadata": {},
     "output_type": "execute_result"
    },
    {
     "data": {
      "text/plain": "<Figure size 640x480 with 1 Axes>",
      "image/png": "[encoded data removed]"
     },
     "metadata": {},
     "output_type": "display_data"
    }
   ],
   "source": [
    "sns.countplot(dataset['sentiment'])"
   ],
   "metadata": {
    "collapsed": false
   }
  },
  {
   "cell_type": "code",
   "execution_count": 320,
   "outputs": [
    {
     "data": {
      "text/plain": "'A wonderful little production. <br /><br />The filming technique is very unassuming- very old-time-BBC fashion and gives a comforting, and sometimes discomforting, sense of realism to the entire piece. <br /><br />The actors are extremely well chosen- Michael Sheen not only \"has got all the polari\" but he has all the voices down pat too! You can truly see the seamless editing guided by the references to Williams\\' diary entries, not only is it well worth the watching but it is a terrificly written and performed piece. A masterful production about one of the great master\\'s of comedy and his life. <br /><br />The realism really comes home with the little things: the fantasy of the guard which, rather than use the traditional \\'dream\\' techniques remains solid then disappears. It plays on our knowledge and our senses, particularly with the scenes concerning Orton and Halliwell and the sets (particularly of their flat with Halliwell\\'s murals decorating every surface) are terribly well done.'"
     },
     "execution_count": 320,
     "metadata": {},
     "output_type": "execute_result"
    }
   ],
   "source": [
    "review = dataset['review'].loc[1]\n",
    "review"
   ],
   "metadata": {
    "collapsed": false
   }
  },
  {
   "cell_type": "code",
   "execution_count": 321,
   "outputs": [
    {
     "data": {
      "text/plain": "'A wonderful little production. The filming technique is very unassuming- very old-time-BBC fashion and gives a comforting, and sometimes discomforting, sense of realism to the entire piece. The actors are extremely well chosen- Michael Sheen not only \"has got all the polari\" but he has all the voices down pat too! You can truly see the seamless editing guided by the references to Williams\\' diary entries, not only is it well worth the watching but it is a terrificly written and performed piece. A masterful production about one of the great master\\'s of comedy and his life. The realism really comes home with the little things: the fantasy of the guard which, rather than use the traditional \\'dream\\' techniques remains solid then disappears. It plays on our knowledge and our senses, particularly with the scenes concerning Orton and Halliwell and the sets (particularly of their flat with Halliwell\\'s murals decorating every surface) are terribly well done.'"
     },
     "execution_count": 321,
     "metadata": {},
     "output_type": "execute_result"
    }
   ],
   "source": [
    "soup = BeautifulSoup(review,\"html.parser\")\n",
    "review = soup.get_text()\n",
    "review"
   ],
   "metadata": {
    "collapsed": false
   }
  },
  {
   "cell_type": "code",
   "execution_count": 322,
   "outputs": [
    {
     "data": {
      "text/plain": "'A wonderful little production  The filming technique is very unassuming  very old time BBC fashion and gives a comforting  and sometimes discomforting  sense of realism to the entire piece  The actors are extremely well chosen  Michael Sheen not only  has got all the polari  but he has all the voices down pat too  You can truly see the seamless editing guided by the references to Williams  diary entries  not only is it well worth the watching but it is a terrificly written and performed piece  A masterful production about one of the great master s of comedy and his life  The realism really comes home with the little things  the fantasy of the guard which  rather than use the traditional  dream  techniques remains solid then disappears  It plays on our knowledge and our senses  particularly with the scenes concerning Orton and Halliwell and the sets  particularly of their flat with Halliwell s murals decorating every surface  are terribly well done '"
     },
     "execution_count": 322,
     "metadata": {},
     "output_type": "execute_result"
    }
   ],
   "source": [
    "review = re.sub('\\[[^]]*\\]',' ',review)\n",
    "review = re.sub('[^a-zA-Z]',' ',review)\n",
    "review"
   ],
   "metadata": {
    "collapsed": false
   }
  },
  {
   "cell_type": "markdown",
   "source": [],
   "metadata": {
    "collapsed": false
   }
  },
  {
   "cell_type": "code",
   "execution_count": 323,
   "outputs": [
    {
     "data": {
      "text/plain": "'a wonderful little production  the filming technique is very unassuming  very old time bbc fashion and gives a comforting  and sometimes discomforting  sense of realism to the entire piece  the actors are extremely well chosen  michael sheen not only  has got all the polari  but he has all the voices down pat too  you can truly see the seamless editing guided by the references to williams  diary entries  not only is it well worth the watching but it is a terrificly written and performed piece  a masterful production about one of the great master s of comedy and his life  the realism really comes home with the little things  the fantasy of the guard which  rather than use the traditional  dream  techniques remains solid then disappears  it plays on our knowledge and our senses  particularly with the scenes concerning orton and halliwell and the sets  particularly of their flat with halliwell s murals decorating every surface  are terribly well done '"
     },
     "execution_count": 323,
     "metadata": {},
     "output_type": "execute_result"
    }
   ],
   "source": [
    "review = review.lower()\n",
    "review"
   ],
   "metadata": {
    "collapsed": false
   }
  },
  {
   "cell_type": "code",
   "execution_count": 324,
   "outputs": [
    {
     "data": {
      "text/plain": "['a',\n 'wonderful',\n 'little',\n 'production',\n 'the',\n 'filming',\n 'technique',\n 'is',\n 'very',\n 'unassuming',\n 'very',\n 'old',\n 'time',\n 'bbc',\n 'fashion',\n 'and',\n 'gives',\n 'a',\n 'comforting',\n 'and',\n 'sometimes',\n 'discomforting',\n 'sense',\n 'of',\n 'realism',\n 'to',\n 'the',\n 'entire',\n 'piece',\n 'the',\n 'actors',\n 'are',\n 'extremely',\n 'well',\n 'chosen',\n 'michael',\n 'sheen',\n 'not',\n 'only',\n 'has',\n 'got',\n 'all',\n 'the',\n 'polari',\n 'but',\n 'he',\n 'has',\n 'all',\n 'the',\n 'voices',\n 'down',\n 'pat',\n 'too',\n 'you',\n 'can',\n 'truly',\n 'see',\n 'the',\n 'seamless',\n 'editing',\n 'guided',\n 'by',\n 'the',\n 'references',\n 'to',\n 'williams',\n 'diary',\n 'entries',\n 'not',\n 'only',\n 'is',\n 'it',\n 'well',\n 'worth',\n 'the',\n 'watching',\n 'but',\n 'it',\n 'is',\n 'a',\n 'terrificly',\n 'written',\n 'and',\n 'performed',\n 'piece',\n 'a',\n 'masterful',\n 'production',\n 'about',\n 'one',\n 'of',\n 'the',\n 'great',\n 'master',\n 's',\n 'of',\n 'comedy',\n 'and',\n 'his',\n 'life',\n 'the',\n 'realism',\n 'really',\n 'comes',\n 'home',\n 'with',\n 'the',\n 'little',\n 'things',\n 'the',\n 'fantasy',\n 'of',\n 'the',\n 'guard',\n 'which',\n 'rather',\n 'than',\n 'use',\n 'the',\n 'traditional',\n 'dream',\n 'techniques',\n 'remains',\n 'solid',\n 'then',\n 'disappears',\n 'it',\n 'plays',\n 'on',\n 'our',\n 'knowledge',\n 'and',\n 'our',\n 'senses',\n 'particularly',\n 'with',\n 'the',\n 'scenes',\n 'concerning',\n 'orton',\n 'and',\n 'halliwell',\n 'and',\n 'the',\n 'sets',\n 'particularly',\n 'of',\n 'their',\n 'flat',\n 'with',\n 'halliwell',\n 's',\n 'murals',\n 'decorating',\n 'every',\n 'surface',\n 'are',\n 'terribly',\n 'well',\n 'done']"
     },
     "execution_count": 324,
     "metadata": {},
     "output_type": "execute_result"
    }
   ],
   "source": [
    "review = review.split()\n",
    "review"
   ],
   "metadata": {
    "collapsed": false
   }
  },
  {
   "cell_type": "code",
   "execution_count": 325,
   "outputs": [
    {
     "name": "stderr",
     "output_type": "stream",
     "text": [
      "[nltk_data] Downloading package stopwords to /Users/tom/nltk_data...\n",
      "[nltk_data]   Package stopwords is already up-to-date!\n"
     ]
    },
    {
     "data": {
      "text/plain": "['wonderful',\n 'little',\n 'production',\n 'filming',\n 'technique',\n 'unassuming',\n 'old',\n 'time',\n 'bbc',\n 'fashion',\n 'gives',\n 'comforting',\n 'sometimes',\n 'discomforting',\n 'sense',\n 'realism',\n 'entire',\n 'piece',\n 'actors',\n 'extremely',\n 'well',\n 'chosen',\n 'michael',\n 'sheen',\n 'got',\n 'polari',\n 'voices',\n 'pat',\n 'truly',\n 'see',\n 'seamless',\n 'editing',\n 'guided',\n 'references',\n 'williams',\n 'diary',\n 'entries',\n 'well',\n 'worth',\n 'watching',\n 'terrificly',\n 'written',\n 'performed',\n 'piece',\n 'masterful',\n 'production',\n 'one',\n 'great',\n 'master',\n 'comedy',\n 'life',\n 'realism',\n 'really',\n 'comes',\n 'home',\n 'little',\n 'things',\n 'fantasy',\n 'guard',\n 'rather',\n 'use',\n 'traditional',\n 'dream',\n 'techniques',\n 'remains',\n 'solid',\n 'disappears',\n 'plays',\n 'knowledge',\n 'senses',\n 'particularly',\n 'scenes',\n 'concerning',\n 'orton',\n 'halliwell',\n 'sets',\n 'particularly',\n 'flat',\n 'halliwell',\n 'murals',\n 'decorating',\n 'every',\n 'surface',\n 'terribly',\n 'well',\n 'done']"
     },
     "execution_count": 325,
     "metadata": {},
     "output_type": "execute_result"
    }
   ],
   "source": [
    "nltk.download('stopwords')\n",
    "review = [word for word in review if not word in set(stopwords.words('english'))]\n",
    "review"
   ],
   "metadata": {
    "collapsed": false
   }
  },
  {
   "cell_type": "code",
   "execution_count": 326,
   "outputs": [
    {
     "name": "stderr",
     "output_type": "stream",
     "text": [
      "[nltk_data] Downloading package wordnet to /Users/tom/nltk_data...\n",
      "[nltk_data]   Package wordnet is already up-to-date!\n",
      "[nltk_data] Downloading package omw-1.4 to /Users/tom/nltk_data...\n",
      "[nltk_data]   Package omw-1.4 is already up-to-date!\n"
     ]
    },
    {
     "data": {
      "text/plain": "['wonderful',\n 'little',\n 'production',\n 'filming',\n 'technique',\n 'unassuming',\n 'old',\n 'time',\n 'bbc',\n 'fashion',\n 'give',\n 'comforting',\n 'sometimes',\n 'discomforting',\n 'sense',\n 'realism',\n 'entire',\n 'piece',\n 'actor',\n 'extremely',\n 'well',\n 'chosen',\n 'michael',\n 'sheen',\n 'got',\n 'polari',\n 'voice',\n 'pat',\n 'truly',\n 'see',\n 'seamless',\n 'editing',\n 'guided',\n 'reference',\n 'williams',\n 'diary',\n 'entry',\n 'well',\n 'worth',\n 'watching',\n 'terrificly',\n 'written',\n 'performed',\n 'piece',\n 'masterful',\n 'production',\n 'one',\n 'great',\n 'master',\n 'comedy',\n 'life',\n 'realism',\n 'really',\n 'come',\n 'home',\n 'little',\n 'thing',\n 'fantasy',\n 'guard',\n 'rather',\n 'use',\n 'traditional',\n 'dream',\n 'technique',\n 'remains',\n 'solid',\n 'disappears',\n 'play',\n 'knowledge',\n 'sens',\n 'particularly',\n 'scene',\n 'concerning',\n 'orton',\n 'halliwell',\n 'set',\n 'particularly',\n 'flat',\n 'halliwell',\n 'mural',\n 'decorating',\n 'every',\n 'surface',\n 'terribly',\n 'well',\n 'done']"
     },
     "execution_count": 326,
     "metadata": {},
     "output_type": "execute_result"
    }
   ],
   "source": [
    "nltk.download('wordnet')\n",
    "nltk.download('omw-1.4')\n",
    "lem = WordNetLemmatizer()\n",
    "review = [lem.lemmatize(word) for word in review]\n",
    "review"
   ],
   "metadata": {
    "collapsed": false
   }
  },
  {
   "cell_type": "code",
   "execution_count": 327,
   "outputs": [
    {
     "data": {
      "text/plain": "'wonderful little production filming technique unassuming old time bbc fashion give comforting sometimes discomforting sense realism entire piece actor extremely well chosen michael sheen got polari voice pat truly see seamless editing guided reference williams diary entry well worth watching terrificly written performed piece masterful production one great master comedy life realism really come home little thing fantasy guard rather use traditional dream technique remains solid disappears play knowledge sens particularly scene concerning orton halliwell set particularly flat halliwell mural decorating every surface terribly well done'"
     },
     "execution_count": 327,
     "metadata": {},
     "output_type": "execute_result"
    }
   ],
   "source": [
    "review = ' '.join(review)\n",
    "review"
   ],
   "metadata": {
    "collapsed": false
   }
  },
  {
   "cell_type": "code",
   "execution_count": 328,
   "outputs": [],
   "source": [
    "corpus = []\n",
    "corpus.append(review)"
   ],
   "metadata": {
    "collapsed": false
   }
  },
  {
   "cell_type": "code",
   "execution_count": 329,
   "outputs": [
    {
     "data": {
      "text/plain": "array([[1, 1, 1, 1, 1, 1, 1, 1, 1, 1, 1, 1, 1, 1, 1, 1, 1, 1, 1, 1, 1, 1,\n        1, 1, 1, 1, 1, 2, 1, 1, 1, 2, 1, 1, 1, 1, 1, 1, 1, 2, 1, 1, 2, 1,\n        1, 2, 1, 2, 1, 1, 1, 1, 1, 1, 1, 1, 1, 1, 1, 1, 1, 2, 1, 1, 1, 1,\n        1, 1, 1, 1, 1, 1, 3, 1, 1, 1, 1]])"
     },
     "execution_count": 329,
     "metadata": {},
     "output_type": "execute_result"
    }
   ],
   "source": [
    "countVec = CountVectorizer()\n",
    "reviewCountVec = countVec.fit_transform(corpus)\n",
    "reviewCountVec.toarray()"
   ],
   "metadata": {
    "collapsed": false
   }
  },
  {
   "cell_type": "code",
   "execution_count": 330,
   "outputs": [
    {
     "data": {
      "text/plain": "array([[1, 1, 1, 1, 1, 1, 1, 1, 1, 1, 1, 1, 1, 1, 1, 1, 1, 1, 1, 1, 1, 1,\n        1, 1, 1, 1, 1, 1, 1, 1, 1, 1, 1, 1, 1, 1, 1, 1, 1, 1, 1, 1, 1, 1,\n        1, 1, 1, 1, 1, 1, 1, 1, 1, 1, 1, 1, 1, 1, 1, 1, 1, 1, 1, 1, 1, 1,\n        1, 1, 1, 1, 1, 1, 1, 1, 1, 1, 1]])"
     },
     "execution_count": 330,
     "metadata": {},
     "output_type": "execute_result"
    }
   ],
   "source": [
    "countVecBinary = CountVectorizer(binary=True)\n",
    "reviewCountVecBinary = countVecBinary.fit_transform(corpus)\n",
    "reviewCountVecBinary.toarray()"
   ],
   "metadata": {
    "collapsed": false
   }
  },
  {
   "cell_type": "code",
   "execution_count": 331,
   "outputs": [
    {
     "data": {
      "text/plain": "array([[0.09712859, 0.09712859, 0.09712859, 0.09712859, 0.09712859,\n        0.09712859, 0.09712859, 0.09712859, 0.09712859, 0.09712859,\n        0.09712859, 0.09712859, 0.09712859, 0.09712859, 0.09712859,\n        0.09712859, 0.09712859, 0.09712859, 0.09712859, 0.09712859,\n        0.09712859, 0.09712859, 0.09712859, 0.09712859, 0.09712859,\n        0.09712859, 0.09712859, 0.19425717, 0.09712859, 0.09712859,\n        0.09712859, 0.19425717, 0.09712859, 0.09712859, 0.09712859,\n        0.09712859, 0.09712859, 0.09712859, 0.09712859, 0.19425717,\n        0.09712859, 0.09712859, 0.19425717, 0.09712859, 0.09712859,\n        0.19425717, 0.09712859, 0.19425717, 0.09712859, 0.09712859,\n        0.09712859, 0.09712859, 0.09712859, 0.09712859, 0.09712859,\n        0.09712859, 0.09712859, 0.09712859, 0.09712859, 0.09712859,\n        0.09712859, 0.19425717, 0.09712859, 0.09712859, 0.09712859,\n        0.09712859, 0.09712859, 0.09712859, 0.09712859, 0.09712859,\n        0.09712859, 0.09712859, 0.29138576, 0.09712859, 0.09712859,\n        0.09712859, 0.09712859]])"
     },
     "execution_count": 331,
     "metadata": {},
     "output_type": "execute_result"
    }
   ],
   "source": [
    "tfidVec = TfidfVectorizer()\n",
    "reviewTfidVec = tfidVec.fit_transform(corpus)\n",
    "reviewTfidVec.toarray()"
   ],
   "metadata": {
    "collapsed": false
   }
  },
  {
   "cell_type": "code",
   "execution_count": 332,
   "outputs": [],
   "source": [
    "dataset_train, dataset_test, train_label, test_label = train_test_split(dataset['review'],dataset['sentiment'],test_size=0.25,random_state=42)"
   ],
   "metadata": {
    "collapsed": false
   }
  },
  {
   "cell_type": "code",
   "execution_count": 333,
   "outputs": [],
   "source": [
    "train_label = (train_label.replace({'positive':1,'negative':0})).values\n",
    "test_label = (test_label.replace({'positive':1,'negative':0})).values"
   ],
   "metadata": {
    "collapsed": false
   }
  },
  {
   "cell_type": "code",
   "execution_count": 334,
   "outputs": [
    {
     "name": "stdout",
     "output_type": "stream",
     "text": [
      "File Found\n"
     ]
    }
   ],
   "source": [
    "\n",
    "if os.path.isfile('corpusTrain.csv') :\n",
    "    print ('File Found')\n",
    "\n",
    "    corpusTrain = pd.read_csv('corpusTrain.csv')\n",
    "    corpusTest = pd.read_csv('corpusTest.csv')\n",
    "    corpusTrain = corpusTrain[\"0\"].tolist()\n",
    "    corpusTest = corpusTest[\"0\"].tolist()\n",
    "\n",
    "else:\n",
    "    print ('Not Found')\n",
    "    corpusTrain = []\n",
    "    corpusTest = []\n",
    "\n",
    "    for i in range(dataset_train.shape[0]):\n",
    "        soup = BeautifulSoup(dataset_train.iloc[i],\"html.parser\")\n",
    "        review = soup.get_text()\n",
    "        review = re.sub('\\[[^]]*\\]',' ',review)\n",
    "        review = re.sub('[^a-zA-Z]',' ',review)\n",
    "        review = review.lower()\n",
    "        review = review.split()\n",
    "        review = [word for word in review if not word in set(stopwords.words('english'))]\n",
    "        lem = WordNetLemmatizer()\n",
    "        review = [lem.lemmatize(word) for word in review]\n",
    "        review = ' '.join(review)\n",
    "        corpusTrain.append(review)\n",
    "        print(i)\n",
    "\n",
    "    for j in range(dataset_test.shape[0]):\n",
    "        soup = BeautifulSoup(dataset_test.iloc[j],\"html.parser\")\n",
    "        review = soup.get_text()\n",
    "        review = re.sub('\\[[^]]*\\]',' ',review)\n",
    "        review = re.sub('[^a-zA-Z]',' ',review)\n",
    "        review = review.lower()\n",
    "        review = review.split()\n",
    "        review = [word for word in review if not word in set(stopwords.words('english'))]\n",
    "        lem = WordNetLemmatizer()\n",
    "        review = [lem.lemmatize(word) for word in review]\n",
    "        review = ' '.join(review)\n",
    "        corpusTest.append(review)\n",
    "        print(j)\n",
    "\n",
    "    tmpTest = pd.DataFrame(corpusTest)\n",
    "    tmpTest.to_csv(\"corpusTest.csv\")\n",
    "\n",
    "    tmpTrain = pd.DataFrame(corpusTrain)\n",
    "    tmpTrain.to_csv(\"corpusTrain.csv\")\n"
   ],
   "metadata": {
    "collapsed": false
   }
  },
  {
   "cell_type": "code",
   "execution_count": 335,
   "outputs": [
    {
     "data": {
      "text/plain": "'decent movie although little bit short time pack lot action grit commonsense emotion time frame matt dillon main character great job movie emotion intensity convincing tense throughout movie typical fancy expensive hollywood cgi action movie satisfying movie indeed price evening great movie movie straight traditional action movie great acting story directing would recommend movie character development character good make believe actually seeing real event taking place movie believe made cheaper budget acting quality much higher'"
     },
     "execution_count": 335,
     "metadata": {},
     "output_type": "execute_result"
    }
   ],
   "source": [
    "corpusTrain[-1]"
   ],
   "metadata": {
    "collapsed": false
   }
  },
  {
   "cell_type": "code",
   "execution_count": 336,
   "outputs": [
    {
     "data": {
      "text/plain": "'wonderfully funny awe inspiring feature pioneer turntablism dj shadow q bert amazing terrific documentary check every major dj crediting getting scratch thanks herbie hancock post bop classic rockit archival footage complex mind blowing turntable routine time'"
     },
     "execution_count": 336,
     "metadata": {},
     "output_type": "execute_result"
    }
   ],
   "source": [
    "corpusTest[-1]"
   ],
   "metadata": {
    "collapsed": false
   }
  },
  {
   "cell_type": "code",
   "execution_count": 337,
   "outputs": [],
   "source": [
    "tfidVec = TfidfVectorizer(ngram_range=(1, 3))\n",
    "tfidVec_train = tfidVec.fit_transform(corpusTrain)\n",
    "tfidVec_test = tfidVec.transform(corpusTest)"
   ],
   "metadata": {
    "collapsed": false
   }
  },
  {
   "cell_type": "code",
   "execution_count": 338,
   "outputs": [],
   "source": [
    "#Suppoer Vector Model\n",
    "\n",
    "linear_svc = LinearSVC(C=0.5, random_state=42)\n",
    "linear_svc.fit(tfidVec_train, train_label)\n",
    "\n",
    "predict = linear_svc.predict(tfidVec_test)"
   ],
   "metadata": {
    "collapsed": false
   }
  },
  {
   "cell_type": "code",
   "execution_count": 339,
   "outputs": [
    {
     "name": "stdout",
     "output_type": "stream",
     "text": [
      "Classification Report: \n",
      "               precision    recall  f1-score   support\n",
      "\n",
      "    Negative       0.91      0.89      0.90      6157\n",
      "    Positive       0.89      0.92      0.91      6343\n",
      "\n",
      "    accuracy                           0.90     12500\n",
      "   macro avg       0.90      0.90      0.90     12500\n",
      "weighted avg       0.90      0.90      0.90     12500\n",
      "\n",
      "Confusion Matrix: \n",
      " [[5467  690]\n",
      " [ 524 5819]]\n",
      "Accuracy: \n",
      " 0.90288\n"
     ]
    }
   ],
   "source": [
    "print(\"Classification Report: \\n\", classification_report(test_label,predict,target_names=['Negative','Positive']))\n",
    "print(\"Confusion Matrix: \\n\", confusion_matrix(test_label,predict))\n",
    "print(\"Accuracy: \\n\", accuracy_score(test_label,predict))"
   ],
   "metadata": {
    "collapsed": false
   }
  },
  {
   "cell_type": "code",
   "execution_count": 340,
   "outputs": [],
   "source": [
    "from sklearn.naive_bayes import  MultinomialNB\n",
    "\n",
    "multiNB = MultinomialNB()\n",
    "multiNB_train = tfidVec.fit_transform(corpusTrain)\n",
    "multiNB_test = tfidVec.transform(corpusTest)\n",
    "\n",
    "multiNB.fit(multiNB_train, train_label)\n",
    "\n",
    "predict_NB = multiNB.predict(multiNB_test)"
   ],
   "metadata": {
    "collapsed": false
   }
  },
  {
   "cell_type": "code",
   "execution_count": 341,
   "outputs": [
    {
     "name": "stdout",
     "output_type": "stream",
     "text": [
      "Classification Report: \n",
      "               precision    recall  f1-score   support\n",
      "\n",
      "    Negative       0.88      0.90      0.89      6157\n",
      "    Positive       0.90      0.88      0.89      6343\n",
      "\n",
      "    accuracy                           0.89     12500\n",
      "   macro avg       0.89      0.89      0.89     12500\n",
      "weighted avg       0.89      0.89      0.89     12500\n",
      "\n",
      "Confusion Matrix: \n",
      " [[5537  620]\n",
      " [ 756 5587]]\n",
      "Accuracy: \n",
      " 0.88992\n"
     ]
    }
   ],
   "source": [
    "print(\"Classification Report: \\n\",classification_report(test_label, predict_NB,target_names=['Negative','Positive']))\n",
    "print(\"Confusion Matrix: \\n\",confusion_matrix(test_label,predict_NB))\n",
    "print(\"Accuracy: \\n\",accuracy_score(test_label,predict_NB))"
   ],
   "metadata": {
    "collapsed": false
   }
  },
  {
   "cell_type": "code",
   "execution_count": 342,
   "outputs": [
    {
     "data": {
      "text/plain": "                                              review\n0  I really liked this Summerslam due to the look...\n1  Not many television shows appeal to quite as m...\n2  The film quickly gets to a major chase scene w...\n3  Jane Austen would definitely approve of this o...\n4  Expectations were somewhat high for me when I ...",
      "text/html": "<div>\n<style scoped>\n    .dataframe tbody tr th:only-of-type {\n        vertical-align: middle;\n    }\n\n    .dataframe tbody tr th {\n        vertical-align: top;\n    }\n\n    .dataframe thead th {\n        text-align: right;\n    }\n</style>\n<table border=\"1\" class=\"dataframe\">\n  <thead>\n    <tr style=\"text-align: right;\">\n      <th></th>\n      <th>review</th>\n    </tr>\n  </thead>\n  <tbody>\n    <tr>\n      <th>0</th>\n      <td>I really liked this Summerslam due to the look...</td>\n    </tr>\n    <tr>\n      <th>1</th>\n      <td>Not many television shows appeal to quite as m...</td>\n    </tr>\n    <tr>\n      <th>2</th>\n      <td>The film quickly gets to a major chase scene w...</td>\n    </tr>\n    <tr>\n      <th>3</th>\n      <td>Jane Austen would definitely approve of this o...</td>\n    </tr>\n    <tr>\n      <th>4</th>\n      <td>Expectations were somewhat high for me when I ...</td>\n    </tr>\n  </tbody>\n</table>\n</div>"
     },
     "execution_count": 342,
     "metadata": {},
     "output_type": "execute_result"
    }
   ],
   "source": [
    "dataset_predict =  dataset_test.copy()\n",
    "dataset_predict = pd.DataFrame(dataset_predict)\n",
    "dataset_predict.columns = ['review']\n",
    "dataset_predict = dataset_predict.reset_index()\n",
    "dataset_predict = dataset_predict.drop(['index'],axis=1)\n",
    "dataset_predict.head()"
   ],
   "metadata": {
    "collapsed": false
   }
  },
  {
   "cell_type": "code",
   "execution_count": 343,
   "outputs": [],
   "source": [
    "test_actual_label = test_label.copy()\n",
    "test_actual_label = pd.DataFrame(test_actual_label)\n",
    "test_actual_label.columns = ['sentiment']\n",
    "test_actual_label['sentiment'] = test_actual_label['sentiment'].replace({1: 'positive', 0: 'negative'})"
   ],
   "metadata": {
    "collapsed": false
   }
  },
  {
   "cell_type": "code",
   "execution_count": 344,
   "outputs": [],
   "source": [
    "test_predicted_label = predict.copy()\n",
    "test_predicted_label = pd.DataFrame(test_predicted_label)\n",
    "test_predicted_label.columns = ['predicted_sentiment']\n",
    "test_predicted_label['predicted_sentiment'] = test_predicted_label['predicted_sentiment'].replace({1: 'positive', 0: 'negative'})"
   ],
   "metadata": {
    "collapsed": false
   }
  },
  {
   "cell_type": "code",
   "execution_count": 345,
   "outputs": [
    {
     "data": {
      "text/plain": "                                              review sentiment  \\\n0  I really liked this Summerslam due to the look...  positive   \n1  Not many television shows appeal to quite as m...  positive   \n2  The film quickly gets to a major chase scene w...  negative   \n3  Jane Austen would definitely approve of this o...  positive   \n4  Expectations were somewhat high for me when I ...  negative   \n\n  predicted_sentiment  \n0            negative  \n1            positive  \n2            negative  \n3            positive  \n4            negative  ",
      "text/html": "<div>\n<style scoped>\n    .dataframe tbody tr th:only-of-type {\n        vertical-align: middle;\n    }\n\n    .dataframe tbody tr th {\n        vertical-align: top;\n    }\n\n    .dataframe thead th {\n        text-align: right;\n    }\n</style>\n<table border=\"1\" class=\"dataframe\">\n  <thead>\n    <tr style=\"text-align: right;\">\n      <th></th>\n      <th>review</th>\n      <th>sentiment</th>\n      <th>predicted_sentiment</th>\n    </tr>\n  </thead>\n  <tbody>\n    <tr>\n      <th>0</th>\n      <td>I really liked this Summerslam due to the look...</td>\n      <td>positive</td>\n      <td>negative</td>\n    </tr>\n    <tr>\n      <th>1</th>\n      <td>Not many television shows appeal to quite as m...</td>\n      <td>positive</td>\n      <td>positive</td>\n    </tr>\n    <tr>\n      <th>2</th>\n      <td>The film quickly gets to a major chase scene w...</td>\n      <td>negative</td>\n      <td>negative</td>\n    </tr>\n    <tr>\n      <th>3</th>\n      <td>Jane Austen would definitely approve of this o...</td>\n      <td>positive</td>\n      <td>positive</td>\n    </tr>\n    <tr>\n      <th>4</th>\n      <td>Expectations were somewhat high for me when I ...</td>\n      <td>negative</td>\n      <td>negative</td>\n    </tr>\n  </tbody>\n</table>\n</div>"
     },
     "execution_count": 345,
     "metadata": {},
     "output_type": "execute_result"
    }
   ],
   "source": [
    "test_result = pd.concat([dataset_predict,test_actual_label,test_predicted_label],axis=1)\n",
    "test_result.head()"
   ],
   "metadata": {
    "collapsed": false
   }
  },
  {
   "cell_type": "code",
   "execution_count": 346,
   "outputs": [],
   "source": [
    "save_classifier = open(\"tfidVec.pickle\",\"wb\")\n",
    "save_model = open(\"linearSVC.pickle\",\"wb\")\n",
    "pickle.dump(tfidVec,save_classifier)\n",
    "pickle.dump(linear_svc,save_model)  # 1: pos , 0:Neg\n",
    "save_classifier.close()\n",
    "save_model.close()"
   ],
   "metadata": {
    "collapsed": false
   }
  },
  {
   "cell_type": "code",
   "execution_count": 347,
   "outputs": [],
   "source": [
    "# Hint\n",
    "save_classifier = open(\"tfidVec.pickle\",\"rb\")\n",
    "save_model = open(\"linearSVC.pickle\",\"rb\")\n",
    "save_cv = pickle.load(save_classifier)\n",
    "model = pickle.load(save_model)\n",
    "save_classifier.close()\n",
    "save_model.close()"
   ],
   "metadata": {
    "collapsed": false
   }
  },
  {
   "cell_type": "code",
   "execution_count": 348,
   "outputs": [],
   "source": [
    "# An example of how to define a function\n",
    "def test_model(sentence):\n",
    "    sen = save_cv.transform([sentence]).toarray()\n",
    "    res = model.predict(sen)[0]\n",
    "    if res == 1:\n",
    "        return 'Positive review'\n",
    "    else:\n",
    "        return 'Negative review'"
   ],
   "metadata": {
    "collapsed": false
   }
  },
  {
   "cell_type": "code",
   "execution_count": 349,
   "outputs": [
    {
     "name": "stdout",
     "output_type": "stream",
     "text": [
      "Negative review\n"
     ]
    }
   ],
   "source": [
    "# Sample of example test\n",
    "sen = 'Waste of time'\n",
    "res = test_model(sen)\n",
    "print(res)"
   ],
   "metadata": {
    "collapsed": false
   }
  },
  {
   "cell_type": "code",
   "execution_count": 372,
   "outputs": [
    {
     "name": "stdout",
     "output_type": "stream",
     "text": [
      "Negative review\n"
     ]
    }
   ],
   "source": [
    "sen = \"The start was good but overall it was horrible\"\n",
    "res = test_model(sen)\n",
    "print(res)"
   ],
   "metadata": {
    "collapsed": false
   }
  },
  {
   "cell_type": "code",
   "execution_count": 351,
   "outputs": [],
   "source": [
    "nb_save_classifier = open(\"tfidVecNB.pickle\",\"wb\")\n",
    "nb_model = open(\"naivebayes.pickle\",\"wb\")\n",
    "pickle.dump(tfidVec,nb_save_classifier)\n",
    "pickle.dump(multiNB,nb_model)  # 1: pos , 0:Neg\n",
    "nb_save_classifier.close()\n",
    "nb_model.close()"
   ],
   "metadata": {
    "collapsed": false
   }
  },
  {
   "cell_type": "code",
   "execution_count": 352,
   "outputs": [],
   "source": [
    "nb_save_classifier = open(\"tfidVecNB.pickle\",\"rb\")\n",
    "nb_model = open(\"naivebayes.pickle\",\"rb\")\n",
    "save_nb = pickle.load(nb_save_classifier)\n",
    "model_nb = pickle.load(nb_model)\n",
    "nb_save_classifier.close()\n",
    "nb_model.close()"
   ],
   "metadata": {
    "collapsed": false
   }
  },
  {
   "cell_type": "code",
   "execution_count": 353,
   "outputs": [],
   "source": [
    "# An example of how to define a function\n",
    "def test_model(sentence):\n",
    "    sen = save_nb.transform([sentence]).toarray()\n",
    "    res = model_nb.predict(sen)[0]\n",
    "    if res == 1:\n",
    "        return 'Positive review'\n",
    "    else:\n",
    "        return 'Negative review'"
   ],
   "metadata": {
    "collapsed": false
   }
  },
  {
   "cell_type": "code",
   "execution_count": 354,
   "outputs": [
    {
     "name": "stdout",
     "output_type": "stream",
     "text": [
      "Negative review\n"
     ]
    }
   ],
   "source": [
    "# Sample of example test\n",
    "sen = 'Waste of time'\n",
    "res = test_model(sen)\n",
    "print(res)"
   ],
   "metadata": {
    "collapsed": false
   }
  },
  {
   "cell_type": "code",
   "execution_count": 354,
   "outputs": [],
   "source": [],
   "metadata": {
    "collapsed": false
   }
  }
 ],
 "metadata": {
  "kernelspec": {
   "display_name": "Python 3",
   "language": "python",
   "name": "python3"
  },
  "language_info": {
   "codemirror_mode": {
    "name": "ipython",
    "version": 2
   },
   "file_extension": ".py",
   "mimetype": "text/x-python",
   "name": "python",
   "nbconvert_exporter": "python",
   "pygments_lexer": "ipython2",
   "version": "2.7.6"
  }
 },
 "nbformat": 4,
 "nbformat_minor": 0
}
